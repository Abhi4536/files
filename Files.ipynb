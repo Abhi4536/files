{
  "nbformat": 4,
  "nbformat_minor": 0,
  "metadata": {
    "colab": {
      "provenance": []
    },
    "kernelspec": {
      "name": "python3",
      "display_name": "Python 3"
    },
    "language_info": {
      "name": "python"
    }
  },
  "cells": [
    {
      "cell_type": "code",
      "execution_count": null,
      "metadata": {
        "id": "J6FkM0nDAayr"
      },
      "outputs": [],
      "source": []
    },
    {
      "cell_type": "markdown",
      "source": [
        "1 What is the difference between interpreted and compiled languages?\n",
        "ans-Interpreted vs Compiled Languages – Interpreted languages (e.g., Python) execute code line by line using an interpreter, making them easier to debug but slower. Compiled languages (e.g., C, C++) are translated into machine code before execution, making them faster but requiring compilation before running.\n",
        "\n",
        "2-What is exception handling in Python?\n",
        "ans-Exception Handling in Python – It is a mechanism to handle runtime errors and prevent crashes. Python provides try, except, else, and finally blocks to manage exceptions gracefully.\n",
        "\n",
        "3-What is the purpose of the finally block in exception handling\n",
        "ans-Purpose of finally Block – The finally block contains cleanup code that executes whether an exception occurs or not. It is commonly used for resource management, like closing files or network connections\n",
        "\n",
        "4- What is logging in Python?\n",
        "ans-Logging in Python – The logging module helps track events, debug issues, and record application behavior. It allows logging messages at different levels (DEBUG, INFO, WARNING, ERROR, CRITICAL).\n",
        "\n",
        "5-What is the significance of the __del__ method in Python?\n",
        "ans-Significance of __del__ Method – The __del__ method is a destructor that is called when an object is deleted or garbage collected. It is used for cleanup actions, like closing connections or freeing resources.\n",
        "\n",
        "6-What is the difference between import and from ... import in Python?\n",
        "ans-import vs from ... import – import module imports the whole module, requiring functions to be called as module.function(). from module import x imports only x, allowing direct use without module prefix.\n",
        "\n",
        "7- How can you handle multiple exceptions in Python?\n",
        "ans-Handling Multiple Exceptions – Python allows handling multiple exceptions using multiple except blocks or a single except (Exception1, Exception2) as e: block. This ensures specific errors are handled appropriately.\n",
        "\n",
        "8-What is the purpose of the with statement when handling files in Python?\n",
        "ans-Purpose of with Statement – The with statement is used for resource management, especially with files. It ensures proper cleanup by automatically closing the file after execution, preventing resource leaks.\n",
        "\n",
        "9-What is the difference between multithreading and multiprocessing?\n",
        "ans-Multithreading vs Multiprocessing – Multithreading runs multiple threads within the same process, sharing memory, and is useful for I/O-bound tasks. Multiprocessing runs separate processes with independent memory, ideal for CPU-bound tasks.\n",
        "\n",
        "10-What are the advantages of using logging in a program?\n",
        "ans-Advantages of Logging – Logging helps in debugging, monitoring, and error tracking. It provides a structured way to record program execution details, making it easier to analyze failures and maintain applications.\n",
        "\n",
        "11- What is memory management in Python?\n",
        "ans-Memory Management in Python – Python handles memory using automatic garbage collection and dynamic memoryallocation. It manages objects efficiently using reference counting and cyclic garbage collection.\n",
        "\n",
        "12-What are the basic steps involved in exception handling in Python?\n",
        "ans-Steps in Exception Handling –\n",
        "\n",
        "Wrap risky code inside a try block.\n",
        "Handle specific exceptions using except.\n",
        "Use else for code that runs only if no exceptions occur.\n",
        "Use finally for cleanup actions.\n",
        "\n",
        "13- Why is memory management important in Python?\n",
        "ans-Importance of Memory Management – Proper memory management prevents memory leaks, optimizes performance, and ensures efficient resource utilization, especially in large applications.\n",
        "\n",
        "14- What is the role of try and except in exception handling?\n",
        "ans-Role of try and except – The try block contains code that may raise an error, while the except block catches and handles the error, preventing program crashes.\n",
        "\n",
        "15- How does Python's garbage collection system work\n",
        "ans-Python’s Garbage Collection System – Python uses reference counting to track object usage and a cyclic garbage collector to free memory occupied by unreferenced objects, preventing memory leaks.\n",
        "\n",
        "16-What is the purpose of the else block in exception handling/\n",
        "ans-Purpose of else Block in Exception Handling – The else block executes only if no exception occurs in the try block. It is useful for code that should run only when no errors happen.\n",
        "\n",
        "17- What are the common logging levels in Python?\n",
        "ans-Common Logging Levels –\n",
        "\n",
        "DEBUG  Detailed diagnostic information.\n",
        "INFO  General program events.\n",
        "WARNING   Potential issues.\n",
        "ERROR  Errors that prevent execution.\n",
        "CRITICAL  Serious errors causing program failure.\n",
        "\n",
        "18-What is the difference between os.fork() and multiprocessing in Python?\n",
        "ans-os.fork() vs multiprocessing – os.fork() creates a child process by duplicating the parent process (only on Unix/Linux). The multiprocessing module provides cross-platform process creation with better control and flexibility.\n",
        "\n",
        "19-What is the importance of closing a file in Python?\n",
        "ans-Importance of Closing a File – Closing a file ensures that data is written properly, prevents file corruption, and frees system resources. Not closing a file can lead to memory leaks.\n",
        "\n",
        "20What is the difference between file.read() and file.readline() in Python?\n",
        "ans-file.read() vs file.readline() – file.read(size) reads the entire file (or a specified size), while file.readline() reads a single line at a time, making it more memory efficient for large files.\n",
        "\n",
        "21-F What is the logging module in Python used for?\n",
        "ans-Purpose of Python’s Logging Module – The logging module provides a way to log messages, track errors, and debug applications efficiently, improving maintainability and troubleshooting.\n",
        "\n",
        "22-What is the os module in Python used for in file handling?\n",
        "ans-The os module in Python provides functions to interact with the operating system, including file handling operations. It allows you to:\n",
        "\n",
        "Create, rename, and delete files (os.rename(), os.remove())\n",
        "Work with directories (os.mkdir(), os.rmdir(), os.listdir())\n",
        "Get file paths (os.path.join(), os.path.exists())\n",
        "Change the current working directory (os.chdi\n",
        "\n",
        "23-What are the challenges associated with memory management in Python?\n",
        "Some challenges of Python's memory management include:\n",
        "\n",
        "ans-Garbage Collection Overhead – Python's garbage collector can cause performance overhead.\n",
        "Memory Leaks – Objects with circular references may not be freed immediately.\n",
        "High Memory Usage – Python uses more memory due to dynamic typing and object overhead.\n",
        "Fragmentation – Memory fragmentation can lead to inefficient memory allocation.\n",
        "Global Interpreter Lock (GIL) – Limits true parallel execution, affecting memory efficiency in multithreading.\n",
        "\n",
        "24-How do you raise an exception manually in Python?\n",
        "ans-ou can raise exceptions manually using the raise keyword. Example:\n",
        "\n",
        "raise ValueError(\"Invalid input\")  \n",
        "\n",
        "\n",
        "25-Why is it important to use multithreading in certain applications?\n",
        "ans-Multithreading is useful when:\n",
        "\n",
        "Handling I/O-bound tasks – Improves performance in applications involving file operations, network requests, or database queries.\n",
        "Enhancing responsiveness – Keeps applications like GUI programs and web servers responsive.\n",
        "Efficient Resource Utilization – Helps utilize CPU time efficiently while waiting for I/O operations.\n",
        "Concurrency – Allows multiple tasks to run simultaneously within a single process.\n",
        "However, due to Python’s Global Interpreter Lock (GIL), multithreading is less effective for CPU-bound tasks. For those, multiprocessing is preferred."
      ],
      "metadata": {
        "id": "-BYiAOr0AoeE"
      }
    },
    {
      "cell_type": "code",
      "source": [
        "# How can you open a file for writing in Python and write a string to it\u001f\n",
        "with open(\"example.txt\", \"w\") as file:\n",
        "    file.write(\"Hello, this is a test string!\")\n"
      ],
      "metadata": {
        "id": "h9trFSiiDt0y"
      },
      "execution_count": 1,
      "outputs": []
    },
    {
      "cell_type": "code",
      "source": [
        "#Write a Python program to read the contents of a file and print each lineF\n",
        "\n",
        "with open(\"example.txt\", \"r\") as file:\n",
        "\n",
        "    for line in file:\n",
        "        print(line.strip())\n"
      ],
      "metadata": {
        "colab": {
          "base_uri": "https://localhost:8080/"
        },
        "id": "8nhGve_rDvs-",
        "outputId": "209c0644-cd96-4076-d47d-4763147775e0"
      },
      "execution_count": 2,
      "outputs": [
        {
          "output_type": "stream",
          "name": "stdout",
          "text": [
            "Hello, this is a test string!\n"
          ]
        }
      ]
    },
    {
      "cell_type": "code",
      "source": [
        "#How would you handle a case where the file doesn't exist while trying to open it for reading\u001f\n",
        "\n",
        "with open(\"example.txt\", \"r\") as file:\n",
        "    for line in file:\n",
        "        print(line.strip())\n"
      ],
      "metadata": {
        "colab": {
          "base_uri": "https://localhost:8080/"
        },
        "id": "l5qBfaz3DvmJ",
        "outputId": "01f1ba48-ed47-49a9-93f8-a9cef6b1da08"
      },
      "execution_count": 3,
      "outputs": [
        {
          "output_type": "stream",
          "name": "stdout",
          "text": [
            "Hello, this is a test string!\n"
          ]
        }
      ]
    },
    {
      "cell_type": "code",
      "source": [
        "#F How would you catch and handle division by zero error in Python\n",
        "try:\n",
        "    result = 10 / 0\n",
        "except ZeroDivisionError:\n",
        "    print(\"Error: Division by zero is not allowed.\")\n"
      ],
      "metadata": {
        "colab": {
          "base_uri": "https://localhost:8080/"
        },
        "id": "6-ci_pjDDvhS",
        "outputId": "f1b0b827-6be7-4c74-a907-f7e3f63c8ae9"
      },
      "execution_count": 6,
      "outputs": [
        {
          "output_type": "stream",
          "name": "stdout",
          "text": [
            "Error: Division by zero is not allowed.\n"
          ]
        }
      ]
    },
    {
      "cell_type": "code",
      "source": [
        "#Write a Python program that logs an error message to a log file when a division by zero exception occursF\n",
        "import logging\n",
        "\n",
        "logging.basicConfig(filename=\"error.log\", level=logging.ERROR, format=\"%(asctime)s - %(levelname)s - %(message)s\")\n",
        "\n",
        "try:\n",
        "    result = 10 / 0\n",
        "except ZeroDivisionError:\n",
        "    logging.error(\"Division by zero error occurred.\")\n"
      ],
      "metadata": {
        "colab": {
          "base_uri": "https://localhost:8080/"
        },
        "id": "OhPYTstADvd2",
        "outputId": "b6ae45af-83a6-48cb-d03e-8d81cbb10369"
      },
      "execution_count": 7,
      "outputs": [
        {
          "output_type": "stream",
          "name": "stderr",
          "text": [
            "ERROR:root:Division by zero error occurred.\n"
          ]
        }
      ]
    },
    {
      "cell_type": "code",
      "source": [
        "#F How do you log information at different levels (INFO, ERROR, WARNING) in Python using the logging module\n",
        "import logging\n",
        "\n",
        "logging.basicConfig(filename=\"app.log\", level=logging.DEBUG, format=\"%(asctime)s - %(levelname)s - %(message)s\")\n",
        "\n",
        "logging.debug(\"This is a DEBUG message\")\n",
        "logging.info(\"This is an INFO message\")\n",
        "logging.warning(\"This is a WARNING message\")\n",
        "logging.error(\"This is an ERROR message\")\n",
        "logging.critical(\"This is a CRITICAL message\")\n"
      ],
      "metadata": {
        "colab": {
          "base_uri": "https://localhost:8080/"
        },
        "id": "GZxm7AWHDvb2",
        "outputId": "e37091e5-8534-49cf-f461-5a27054d9ab0"
      },
      "execution_count": 8,
      "outputs": [
        {
          "output_type": "stream",
          "name": "stderr",
          "text": [
            "WARNING:root:This is a WARNING message\n",
            "ERROR:root:This is an ERROR message\n",
            "CRITICAL:root:This is a CRITICAL message\n"
          ]
        }
      ]
    },
    {
      "cell_type": "code",
      "source": [
        "#Write a program to handle a file opening error using exception handling\n",
        "try:\n",
        "    with open(\"nonexistent_file.txt\", \"r\") as file:\n",
        "        content = file.read()\n",
        "except FileNotFoundError:\n",
        "    print(\"Error: The file was not found.\")\n",
        "\n"
      ],
      "metadata": {
        "colab": {
          "base_uri": "https://localhost:8080/"
        },
        "id": "Xqa9UQxWDvXC",
        "outputId": "69524c14-cc8d-48ea-9048-fe494966e238"
      },
      "execution_count": 9,
      "outputs": [
        {
          "output_type": "stream",
          "name": "stdout",
          "text": [
            "Error: The file was not found.\n"
          ]
        }
      ]
    },
    {
      "cell_type": "code",
      "source": [
        "#How can you read a file line by line and store its content in a list in Python\n",
        "with open(\"example.txt\", \"r\") as file:\n",
        "    lines = file.readlines()\n"
      ],
      "metadata": {
        "id": "t1hw3kV_DvR4"
      },
      "execution_count": 10,
      "outputs": []
    },
    {
      "cell_type": "code",
      "source": [
        "#How can you append data to an existing file in Python\n",
        "with open(\"example.txt\", \"a\") as file:\n",
        "    file.write(\"\\nAppended text.\")\n"
      ],
      "metadata": {
        "id": "DquYlloTDvOQ"
      },
      "execution_count": 11,
      "outputs": []
    },
    {
      "cell_type": "code",
      "source": [
        "# Write a Python program that uses a try-except block to handle an error when attempting to access a\n",
        "#dictionary key that doesn't exist\n",
        "try:\n",
        "    data = {\"name\": \"Alice\", \"age\": 25}\n",
        "    value = data[\"city\"]\n",
        "except KeyError:\n",
        "    print(\"Error: The key does not exist in the dictionary.\")\n"
      ],
      "metadata": {
        "colab": {
          "base_uri": "https://localhost:8080/"
        },
        "id": "TGC7dhQzDvLE",
        "outputId": "9a6b1009-c5ff-48fb-f716-4a7ca29786dc"
      },
      "execution_count": 12,
      "outputs": [
        {
          "output_type": "stream",
          "name": "stdout",
          "text": [
            "Error: The key does not exist in the dictionary.\n"
          ]
        }
      ]
    },
    {
      "cell_type": "code",
      "source": [
        "#Write a program that demonstrates using multiple except blocks to handle different types of exceptionsF\n",
        "try:\n",
        "    x = int(\"abc\")  # ValueError\n",
        "    y = 10 / 0  # ZeroDivisionError\n",
        "except ValueError:\n",
        "    print(\"Error: Invalid conversion to integer.\")\n",
        "except ZeroDivisionError:\n",
        "    print(\"Error: Division by zero is not allowed.\")\n",
        "except Exception as e:\n",
        "    print(f\"An unexpected error occurred: {e}\")\n"
      ],
      "metadata": {
        "colab": {
          "base_uri": "https://localhost:8080/"
        },
        "id": "Op9Hx7e_DvGE",
        "outputId": "24dce118-ad74-46c7-b088-37331236e92c"
      },
      "execution_count": 13,
      "outputs": [
        {
          "output_type": "stream",
          "name": "stdout",
          "text": [
            "Error: Invalid conversion to integer.\n"
          ]
        }
      ]
    },
    {
      "cell_type": "code",
      "source": [
        "#How would you check if a file exists before attempting to read it in Python\n",
        "import os\n",
        "\n",
        "file_path = \"example.txt\"\n",
        "\n",
        "if os.path.exists(file_path):\n",
        "    with open(file_path, \"r\") as file:\n",
        "        content = file.read()\n",
        "else:\n",
        "    print(\"Error: File does not exist.\")\n"
      ],
      "metadata": {
        "id": "gAgK71vwDvCL"
      },
      "execution_count": null,
      "outputs": []
    },
    {
      "cell_type": "code",
      "source": [
        "# Write a program that uses the logging module to log both informational and error messages\n",
        "import logging\n",
        "\n",
        "logging.basicConfig(filename=\"app.log\", level=logging.DEBUG, format=\"%(asctime)s - %(levelname)s - %(message)s\")\n",
        "\n",
        "logging.info(\"This is an informational message.\")\n",
        "\n",
        "try:\n",
        "    result = 10 / 0\n",
        "except ZeroDivisionError:\n",
        "    logging.error(\"Error: Division by zero occurred.\")\n",
        "\n"
      ],
      "metadata": {
        "id": "smmZSyz3Du-q"
      },
      "execution_count": null,
      "outputs": []
    },
    {
      "cell_type": "code",
      "source": [
        "# Write a Python program that prints the content of a file and handles the case when the file is emptyF\n",
        "try:\n",
        "    with open(\"example.txt\", \"r\") as file:\n",
        "        content = file.read()\n",
        "        if content:\n",
        "            print(content)\n",
        "        else:\n",
        "            print(\"The file is empty.\")\n",
        "except FileNotFoundError:\n",
        "    print(\"Error: The file was not found.\")\n",
        "\n"
      ],
      "metadata": {
        "colab": {
          "base_uri": "https://localhost:8080/"
        },
        "id": "Q8avdQznDu7s",
        "outputId": "45624d3b-e9ac-4f18-e083-51d5a3f742bb"
      },
      "execution_count": 14,
      "outputs": [
        {
          "output_type": "stream",
          "name": "stdout",
          "text": [
            "Hello, this is a test string!\n",
            "Appended text.\n"
          ]
        }
      ]
    },
    {
      "cell_type": "code",
      "source": [
        "#Demonstrate how to use memory profiling to check the memory usage of a small program\n",
        "from memory_profiler import profile\n",
        "\n",
        "@profile\n",
        "def memory_test():\n",
        "    data = [x ** 2 for x in range(100000)]\n",
        "    return data\n",
        "\n",
        "memory_test()\n"
      ],
      "metadata": {
        "id": "81IxWEBlDu46"
      },
      "execution_count": null,
      "outputs": []
    },
    {
      "cell_type": "code",
      "source": [
        "#Write a Python program to create and write a list of numbers to a file, one number per line\n",
        "numbers = [1, 2, 3, 4, 5]\n",
        "\n",
        "with open(\"numbers.txt\", \"w\") as file:\n",
        "    for number in numbers:\n",
        "        file.write(f\"{number}\\n\")\n",
        "\n"
      ],
      "metadata": {
        "id": "GGhj3-HFDu18"
      },
      "execution_count": null,
      "outputs": []
    },
    {
      "cell_type": "code",
      "source": [
        "#How would you implement a basic logging setup that logs to a file with rotation after 1MB\n",
        "import logging\n",
        "from logging.handlers import RotatingFileHandler\n",
        "\n",
        "logger = logging.getLogger(\"RotatingLogger\")\n",
        "logger.setLevel(logging.DEBUG)\n",
        "\n",
        "handler = RotatingFileHandler(\"app.log\", maxBytes=1_000_000, backupCount=3)\n",
        "handler.setFormatter(logging.Formatter(\"%(asctime)s - %(levelname)s - %(message)s\"))\n",
        "\n",
        "logger.addHandler(handler)\n",
        "\n",
        "logger.info(\"This is an informational message.\")\n"
      ],
      "metadata": {
        "id": "S41l5PhHDuyv"
      },
      "execution_count": null,
      "outputs": []
    },
    {
      "cell_type": "code",
      "source": [
        "#Write a program that handles both IndexError and KeyError using a try-except block\n",
        "try:\n",
        "    my_list = [1, 2, 3]\n",
        "    print(my_list[5])  # IndexError\n",
        "\n",
        "    my_dict = {\"a\": 10, \"b\": 20}\n",
        "    print(my_dict[\"c\"])  # KeyError\n",
        "\n",
        "except IndexError:\n",
        "    print(\"Error: List index out of range.\")\n",
        "except KeyError:\n",
        "    print(\"Error: Dictionary key not found.\")\n"
      ],
      "metadata": {
        "id": "Y0sgq_o4Duwa"
      },
      "execution_count": null,
      "outputs": []
    },
    {
      "cell_type": "code",
      "source": [
        "# How would you open a file and read its contents using a context manager in Python\n",
        "with open(\"example.txt\", \"r\") as file:\n",
        "    content = file.read()\n",
        "    print(content)\n"
      ],
      "metadata": {
        "id": "lJFu3SgcDut_"
      },
      "execution_count": null,
      "outputs": []
    },
    {
      "cell_type": "code",
      "source": [
        "# Write a Python program that reads a file and prints the number of occurrences of a specific word\n",
        "word_to_count = \"example\"\n",
        "\n",
        "with open(\"example.txt\", \"r\") as file:\n",
        "    content = file.read()\n",
        "    count = content.lower().split().count(word_to_count.lower())\n",
        "\n",
        "print(f\"The word '{word_to_count}' appears {count} times in the file.\")\n"
      ],
      "metadata": {
        "id": "3r6wJ2_KDurB"
      },
      "execution_count": null,
      "outputs": []
    },
    {
      "cell_type": "code",
      "source": [
        "#How can you check if a file is empty before attempting to read its contents\u001f\n",
        "import os\n",
        "\n",
        "file_path = \"example.txt\"\n",
        "\n",
        "if os.path.exists(file_path) and os.path.getsize(file_path) > 0:\n",
        "    with open(file_path, \"r\") as file:\n",
        "        content = file.read()\n",
        "        print(content)\n",
        "else:\n",
        "    print(\"The file is empty or does not exist.\")\n"
      ],
      "metadata": {
        "id": "7yo-7sd5DuoP"
      },
      "execution_count": null,
      "outputs": []
    },
    {
      "cell_type": "code",
      "source": [
        "# Write a Python program that writes to a log file when an error occurs during file handling\n",
        "import logging\n",
        "\n",
        "logging.basicConfig(filename=\"file_errors.log\", level=logging.ERROR, format=\"%(asctime)s - %(levelname)s - %(message)s\")\n",
        "\n",
        "try:\n",
        "    with open(\"nonexistent_file.txt\", \"r\") as file:\n",
        "        content = file.read()\n",
        "except FileNotFoundError:\n",
        "    logging.error(\"Error: The file was not found.\")\n",
        "except Exception as e:\n",
        "    logging.error(f\"An unexpected error occurred: {e}\")\n"
      ],
      "metadata": {
        "id": "vjj2fYPdDult"
      },
      "execution_count": null,
      "outputs": []
    },
    {
      "cell_type": "code",
      "source": [],
      "metadata": {
        "id": "ChZyDNBfDujL"
      },
      "execution_count": null,
      "outputs": []
    },
    {
      "cell_type": "code",
      "source": [],
      "metadata": {
        "id": "M0HhMHJ3Dugh"
      },
      "execution_count": null,
      "outputs": []
    },
    {
      "cell_type": "code",
      "source": [],
      "metadata": {
        "id": "wVvMDpfADueA"
      },
      "execution_count": null,
      "outputs": []
    }
  ]
}